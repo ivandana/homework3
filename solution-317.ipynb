{
 "metadata": {
  "language_info": {
   "codemirror_mode": {
    "name": "ipython",
    "version": 3
   },
   "file_extension": ".py",
   "mimetype": "text/x-python",
   "name": "python",
   "nbconvert_exporter": "python",
   "pygments_lexer": "ipython3",
   "version": "3.8.2-final"
  },
  "orig_nbformat": 2,
  "kernelspec": {
   "name": "Python 3.8.2 64-bit",
   "display_name": "Python 3.8.2 64-bit",
   "metadata": {
    "interpreter": {
     "hash": "31f2aee4e71d21fbe5cf8b01ff0e069b9275f58929596ceb00d14d90e3e16cd6"
    }
   }
  }
 },
 "nbformat": 4,
 "nbformat_minor": 2,
 "cells": [
  {
   "cell_type": "code",
   "execution_count": 10,
   "metadata": {
    "tags": []
   },
   "outputs": [
    {
     "output_type": "stream",
     "name": "stdout",
     "text": "(a)\n*                   \n* *                 \n* * *               \n* * * *             \n* * * * *           \n* * * * * *         \n* * * * * * *       \n* * * * * * * *     \n* * * * * * * * *   \n* * * * * * * * * * \n\n(b)\n* * * * * * * * * * \n* * * * * * * * *   \n* * * * * * * *     \n* * * * * * *       \n* * * * * *         \n* * * * *           \n* * * *             \n* * *               \n* *                 \n*                   \n\n(c)\n* * * * * * * * * * \n  * * * * * * * * * \n    * * * * * * * * \n      * * * * * * * \n        * * * * * * \n          * * * * * \n            * * * * \n              * * * \n                * * \n                  * \n\n(d)\n                  * \n                * * \n              * * * \n            * * * * \n          * * * * * \n        * * * * * * \n      * * * * * * * \n    * * * * * * * * \n  * * * * * * * * * \n* * * * * * * * * * \n\n"
    }
   ],
   "source": [
    "#solution 3.17\n",
    "\n",
    "print('(a)')\n",
    "for i in range(1,11):\n",
    "    print(f'{\"* \" * i:<20}')\n",
    "\n",
    "print()\n",
    "\n",
    "print('(b)')\n",
    "for j in range(1,11):\n",
    "    p = 11 - j\n",
    "    print(f'{\"* \" * p:<20}')\n",
    "\n",
    "print()\n",
    "\n",
    "print('(c)')\n",
    "for k in range(1,11):\n",
    "    p = 11 - k\n",
    "    print(f'{\"* \" * p:>20}')\n",
    "\n",
    "print()\n",
    "\n",
    "print('(d)')\n",
    "for l in range(1,11):\n",
    "    print(f'{\"* \" * l:>20}')\n",
    "\n",
    "print()    \n",
    "\n"
   ]
  },
  {
   "cell_type": "code",
   "execution_count": null,
   "metadata": {},
   "outputs": [],
   "source": []
  }
 ]
}