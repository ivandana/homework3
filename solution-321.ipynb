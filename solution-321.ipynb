{
 "metadata": {
  "language_info": {
   "codemirror_mode": {
    "name": "ipython",
    "version": 3
   },
   "file_extension": ".py",
   "mimetype": "text/x-python",
   "name": "python",
   "nbconvert_exporter": "python",
   "pygments_lexer": "ipython3",
   "version": "3.8.2-final"
  },
  "orig_nbformat": 2,
  "kernelspec": {
   "name": "Python 3.8.2 64-bit",
   "display_name": "Python 3.8.2 64-bit",
   "metadata": {
    "interpreter": {
     "hash": "31f2aee4e71d21fbe5cf8b01ff0e069b9275f58929596ceb00d14d90e3e16cd6"
    }
   }
  }
 },
 "nbformat": 4,
 "nbformat_minor": 2,
 "cells": [
  {
   "cell_type": "code",
   "execution_count": 2,
   "metadata": {
    "tags": []
   },
   "outputs": [
    {
     "output_type": "stream",
     "name": "stdout",
     "text": "Cost of purchase is 27 cents.\nYour change is :\n2 quarter(s)\n2 dime(s)\n3 penny(ies)\n"
    }
   ],
   "source": [
    "#solution 3.21\n",
    "\n",
    "quarter, dime, nickel, penny = 25, 10, 5, 1\n",
    "q_count, d_count, n_count, p_count = 0, 0, 0, 0 \n",
    "\n",
    "dollar_in_cents = 100\n",
    "balance = 0\n",
    "\n",
    "cost_of_purchase = int(input('Enter an amount in cents:'))\n",
    "print(f'Cost of purchase is {cost_of_purchase} cents.')\n",
    "balance = dollar_in_cents - cost_of_purchase\n",
    "\n",
    "if not balance:\n",
    "  print (f'Your change is {balance}') \n",
    "\n",
    "print(f'Your change is :')\n",
    "if balance >= 25:\n",
    "    q_count = balance//quarter\n",
    "    if q_count != 0:\n",
    "      print(f'{q_count} quarter(s)')\n",
    "    balance %= quarter\n",
    "\n",
    "if balance >= 10:\n",
    "    d_count = balance//dime\n",
    "    if d_count != 0:\n",
    "      print(f'{d_count} dime(s)')\n",
    "    balance %= dime\n",
    "\n",
    "if balance >= 5:\n",
    "    n_count = balance//nickel\n",
    "    if n_count != 0:\n",
    "      print(f'{q_count} nickel(s)')\n",
    "    balance %= nickel\n",
    "\n",
    "if balance >= 0:\n",
    "    p_count = balance//penny\n",
    "    if p_count != 0:\n",
    "      print(f'{p_count} penny(ies)')\n",
    "    balance = 0              \n"
   ]
  },
  {
   "cell_type": "code",
   "execution_count": null,
   "metadata": {},
   "outputs": [],
   "source": []
  }
 ]
}