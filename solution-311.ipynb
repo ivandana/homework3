{
 "metadata": {
  "language_info": {
   "codemirror_mode": {
    "name": "ipython",
    "version": 3
   },
   "file_extension": ".py",
   "mimetype": "text/x-python",
   "name": "python",
   "nbconvert_exporter": "python",
   "pygments_lexer": "ipython3",
   "version": "3.8.2-final"
  },
  "orig_nbformat": 2,
  "kernelspec": {
   "name": "Python 3.8.2 64-bit",
   "display_name": "Python 3.8.2 64-bit",
   "metadata": {
    "interpreter": {
     "hash": "31f2aee4e71d21fbe5cf8b01ff0e069b9275f58929596ceb00d14d90e3e16cd6"
    }
   }
  }
 },
 "nbformat": 4,
 "nbformat_minor": 2,
 "cells": [
  {
   "cell_type": "code",
   "execution_count": 3,
   "metadata": {
    "tags": []
   },
   "outputs": [
    {
     "output_type": "stream",
     "name": "stdout",
     "text": "The mile/gallon for this tank was 22.421875\nThe mile/gallon for this tank was 19.417476\nThe mile/gallon for this tank was 24.000000\nThe overall miles/gallon was 21.601423\n"
    }
   ],
   "source": [
    "#Solution 3.11\n",
    "\n",
    "SENTINEL = -1\n",
    "miles_per_gallon = 0.0\n",
    "total_miles_per_gallon = 0.0\n",
    "total_miles, total_gallon = 0.0, 0.0\n",
    "\n",
    "while True:\n",
    "    gallon = float(input('Enter gallon used (-1 to exit):'))\n",
    "    if gallon == SENTINEL:\n",
    "      #print(f'The mile/gallon for this tank was {total_miles_per_gallon:.6f}')\n",
    "      break\n",
    "    miles = float(input('Enter the miles driven:'))\n",
    "    miles_per_gallon = miles/gallon\n",
    "    total_miles += miles\n",
    "    total_gallon += gallon\n",
    "    \n",
    "    print(f'The mile/gallon for this tank was {miles_per_gallon:.6f}')\n",
    "    \n",
    "print(f'The overall miles/gallon was {total_miles/total_gallon:.6f}')\n",
    "\n"
   ]
  }
 ]
}
